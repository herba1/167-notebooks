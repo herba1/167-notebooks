{
  "nbformat": 4,
  "nbformat_minor": 0,
  "metadata": {
    "colab": {
      "provenance": [],
      "include_colab_link": true
    },
    "kernelspec": {
      "name": "python3",
      "display_name": "Python 3"
    },
    "language_info": {
      "name": "python"
    }
  },
  "cells": [
    {
      "cell_type": "markdown",
      "metadata": {
        "id": "view-in-github",
        "colab_type": "text"
      },
      "source": [
        "<a href=\"https://colab.research.google.com/github/herba1/167-notebooks/blob/main/10_2_Convolution_for_MNIST_1D.ipynb\" target=\"_parent\"><img src=\"https://colab.research.google.com/assets/colab-badge.svg\" alt=\"Open In Colab\"/></a>"
      ]
    },
    {
      "cell_type": "markdown",
      "source": [
        "# **Notebook 10.2: Convolution for MNIST-1D**\n",
        "\n",
        "This notebook investigates a 1D convolutional network for MNIST-1D as in figure 10.7 and 10.8a.\n",
        "\n",
        "Work through the cells below, running each cell in turn. In various places you will see the words \"TO DO\". Follow the instructions at these places and make predictions about what is going to happen or write code to complete the functions.\n",
        "\n",
        "Contact me at udlbookmail@gmail.com if you find any mistakes or have any suggestions.\n",
        "\n"
      ],
      "metadata": {
        "id": "t9vk9Elugvmi"
      }
    },
    {
      "cell_type": "code",
      "source": [
        "# Run this if you're in a Colab to install MNIST 1D repository\n",
        "!pip install git+https://github.com/greydanus/mnist1d"
      ],
      "metadata": {
        "id": "D5yLObtZCi9J",
        "colab": {
          "base_uri": "https://localhost:8080/"
        },
        "outputId": "85ada189-8332-43c1-e4af-eb2e692e635a"
      },
      "execution_count": 1,
      "outputs": [
        {
          "output_type": "stream",
          "name": "stdout",
          "text": [
            "Collecting git+https://github.com/greydanus/mnist1d\n",
            "  Cloning https://github.com/greydanus/mnist1d to /tmp/pip-req-build-o81z9x8c\n",
            "  Running command git clone --filter=blob:none --quiet https://github.com/greydanus/mnist1d /tmp/pip-req-build-o81z9x8c\n",
            "  Resolved https://github.com/greydanus/mnist1d to commit 7878d96082abd200c546a07a4101fa90b30fdf7e\n",
            "  Installing build dependencies ... \u001b[?25l\u001b[?25hdone\n",
            "  Getting requirements to build wheel ... \u001b[?25l\u001b[?25hdone\n",
            "  Preparing metadata (pyproject.toml) ... \u001b[?25l\u001b[?25hdone\n",
            "Requirement already satisfied: requests in /usr/local/lib/python3.10/dist-packages (from mnist1d==0.0.2.post16) (2.32.3)\n",
            "Requirement already satisfied: numpy in /usr/local/lib/python3.10/dist-packages (from mnist1d==0.0.2.post16) (1.26.4)\n",
            "Requirement already satisfied: matplotlib in /usr/local/lib/python3.10/dist-packages (from mnist1d==0.0.2.post16) (3.7.1)\n",
            "Requirement already satisfied: scipy in /usr/local/lib/python3.10/dist-packages (from mnist1d==0.0.2.post16) (1.13.1)\n",
            "Requirement already satisfied: contourpy>=1.0.1 in /usr/local/lib/python3.10/dist-packages (from matplotlib->mnist1d==0.0.2.post16) (1.3.0)\n",
            "Requirement already satisfied: cycler>=0.10 in /usr/local/lib/python3.10/dist-packages (from matplotlib->mnist1d==0.0.2.post16) (0.12.1)\n",
            "Requirement already satisfied: fonttools>=4.22.0 in /usr/local/lib/python3.10/dist-packages (from matplotlib->mnist1d==0.0.2.post16) (4.54.1)\n",
            "Requirement already satisfied: kiwisolver>=1.0.1 in /usr/local/lib/python3.10/dist-packages (from matplotlib->mnist1d==0.0.2.post16) (1.4.7)\n",
            "Requirement already satisfied: packaging>=20.0 in /usr/local/lib/python3.10/dist-packages (from matplotlib->mnist1d==0.0.2.post16) (24.1)\n",
            "Requirement already satisfied: pillow>=6.2.0 in /usr/local/lib/python3.10/dist-packages (from matplotlib->mnist1d==0.0.2.post16) (10.4.0)\n",
            "Requirement already satisfied: pyparsing>=2.3.1 in /usr/local/lib/python3.10/dist-packages (from matplotlib->mnist1d==0.0.2.post16) (3.2.0)\n",
            "Requirement already satisfied: python-dateutil>=2.7 in /usr/local/lib/python3.10/dist-packages (from matplotlib->mnist1d==0.0.2.post16) (2.8.2)\n",
            "Requirement already satisfied: charset-normalizer<4,>=2 in /usr/local/lib/python3.10/dist-packages (from requests->mnist1d==0.0.2.post16) (3.4.0)\n",
            "Requirement already satisfied: idna<4,>=2.5 in /usr/local/lib/python3.10/dist-packages (from requests->mnist1d==0.0.2.post16) (3.10)\n",
            "Requirement already satisfied: urllib3<3,>=1.21.1 in /usr/local/lib/python3.10/dist-packages (from requests->mnist1d==0.0.2.post16) (2.2.3)\n",
            "Requirement already satisfied: certifi>=2017.4.17 in /usr/local/lib/python3.10/dist-packages (from requests->mnist1d==0.0.2.post16) (2024.8.30)\n",
            "Requirement already satisfied: six>=1.5 in /usr/local/lib/python3.10/dist-packages (from python-dateutil>=2.7->matplotlib->mnist1d==0.0.2.post16) (1.16.0)\n",
            "Building wheels for collected packages: mnist1d\n",
            "  Building wheel for mnist1d (pyproject.toml) ... \u001b[?25l\u001b[?25hdone\n",
            "  Created wheel for mnist1d: filename=mnist1d-0.0.2.post16-py3-none-any.whl size=14624 sha256=69b43b80cc2193165bdc16a52fe42db8d470e276120c0040b34399623e7dfc7b\n",
            "  Stored in directory: /tmp/pip-ephem-wheel-cache-j6ds694z/wheels/41/95/55/45fcf7d38cfa97e35682da6c5017d4513729131326ce935371\n",
            "Successfully built mnist1d\n",
            "Installing collected packages: mnist1d\n",
            "Successfully installed mnist1d-0.0.2.post16\n"
          ]
        }
      ]
    },
    {
      "cell_type": "code",
      "source": [
        "import numpy as np\n",
        "import os\n",
        "import torch, torch.nn as nn\n",
        "from torch.utils.data import TensorDataset, DataLoader\n",
        "from torch.optim.lr_scheduler import StepLR\n",
        "import matplotlib.pyplot as plt\n",
        "import mnist1d\n",
        "import random"
      ],
      "metadata": {
        "id": "YrXWAH7sUWvU"
      },
      "execution_count": 2,
      "outputs": []
    },
    {
      "cell_type": "code",
      "source": [
        "args = mnist1d.data.get_dataset_args()\n",
        "data = mnist1d.data.get_dataset(args, path='./mnist1d_data.pkl', download=False, regenerate=False)\n",
        "\n",
        "# The training and test input and outputs are in\n",
        "# data['x'], data['y'], data['x_test'], and data['y_test']\n",
        "print(\"Examples in training set: {}\".format(len(data['y'])))\n",
        "print(\"Examples in test set: {}\".format(len(data['y_test'])))\n",
        "print(\"Length of each example: {}\".format(data['x'].shape[-1]))"
      ],
      "metadata": {
        "id": "twI72ZCrCt5z",
        "colab": {
          "base_uri": "https://localhost:8080/"
        },
        "outputId": "1ede1cd2-0893-482b-ba6b-0bf65adec56e"
      },
      "execution_count": 3,
      "outputs": [
        {
          "output_type": "stream",
          "name": "stdout",
          "text": [
            "Did or could not load data from ./mnist1d_data.pkl. Rebuilding dataset...\n",
            "Examples in training set: 4000\n",
            "Examples in test set: 1000\n",
            "Length of each example: 40\n"
          ]
        }
      ]
    },
    {
      "cell_type": "code",
      "source": [
        "# Load in the data\n",
        "train_data_x = data['x'].transpose()\n",
        "train_data_y = data['y']\n",
        "val_data_x = data['x_test'].transpose()\n",
        "val_data_y = data['y_test']\n",
        "# Print out sizes\n",
        "print(\"Train data: %d examples (columns), each of which has %d dimensions (rows)\"%((train_data_x.shape[1],train_data_x.shape[0])))\n",
        "print(\"Validation data: %d examples (columns), each of which has %d dimensions (rows)\"%((val_data_x.shape[1],val_data_x.shape[0])))"
      ],
      "metadata": {
        "id": "8bKADvLHbiV5",
        "colab": {
          "base_uri": "https://localhost:8080/"
        },
        "outputId": "0a963292-be40-488c-8e7b-f3c3beabc7a9"
      },
      "execution_count": 4,
      "outputs": [
        {
          "output_type": "stream",
          "name": "stdout",
          "text": [
            "Train data: 4000 examples (columns), each of which has 40 dimensions (rows)\n",
            "Validation data: 1000 examples (columns), each of which has 40 dimensions (rows)\n"
          ]
        }
      ]
    },
    {
      "cell_type": "markdown",
      "source": [
        "Define the network"
      ],
      "metadata": {
        "id": "_sFvRDGrl4qe"
      }
    },
    {
      "cell_type": "code",
      "source": [
        "# There are 40 input dimensions and 10 output dimensions for this data\n",
        "# The inputs correspond to the 40 offsets in the MNIST1D template.\n",
        "D_i = 40\n",
        "# The outputs correspond to the 10 digits\n",
        "D_o = 10\n",
        "\n",
        "\n",
        "# TODO Create a model with the following layers\n",
        "# 1. Convolutional layer, (input=length 40 and 1 channel, kernel size 3, stride 2, padding=\"valid\", 15 output channels )\n",
        "# 2. ReLU\n",
        "# 3. Convolutional layer, (input=length 19 and 15 channels, kernel size 3, stride 2, padding=\"valid\", 15 output channels )\n",
        "# 4. ReLU\n",
        "# 5. Convolutional layer, (input=length 9 and 15 channels, kernel size 3, stride 2, padding=\"valid\", 15 output channels)\n",
        "# 6. ReLU\n",
        "# 7. Flatten (converts 4x15) to length 60\n",
        "# 8. Linear layer (input size = 60, output size = 10)\n",
        "# References:\n",
        "# https://pytorch.org/docs/1.13/generated/torch.nn.Conv1d.html?highlight=conv1d#torch.nn.Conv1d\n",
        "# https://pytorch.org/docs/stable/generated/torch.nn.Flatten.html\n",
        "# https://pytorch.org/docs/1.13/generated/torch.nn.Linear.html?highlight=linear#torch.nn.Linear\n",
        "\n",
        "# NOTE THAT THE CONVOLUTIONAL LAYERS NEED TO TAKE THE NUMBER OF INPUT CHANNELS AS A PARAMETER\n",
        "# AND NOT THE INPUT SIZE.\n",
        "\n",
        "# Replace the following function:\n",
        "model = nn.Sequential(\n",
        "nn.Conv1d(in_channels=1, out_channels=15, kernel_size=3, stride=2, padding=\"valid\"),\n",
        "nn.ReLU(),\n",
        "nn.Conv1d(in_channels=15, out_channels=15, kernel_size=3, stride=2, padding=\"valid\"),\n",
        "nn.ReLU(),\n",
        "nn.Conv1d(in_channels=15, out_channels=15, kernel_size=3, stride=2, padding=\"valid\"),\n",
        "nn.ReLU(),\n",
        "nn.Flatten(),\n",
        "nn.Linear(60, 10)\n",
        ")\n",
        "\n",
        "\n",
        "\n"
      ],
      "metadata": {
        "id": "FslroPJJffrh"
      },
      "execution_count": 6,
      "outputs": []
    },
    {
      "cell_type": "code",
      "source": [
        "# He initialization of weights\n",
        "def weights_init(layer_in):\n",
        "  if isinstance(layer_in, nn.Linear):\n",
        "    nn.init.kaiming_uniform_(layer_in.weight)\n",
        "    layer_in.bias.data.fill_(0.0)"
      ],
      "metadata": {
        "id": "YgLaex1pfhqz"
      },
      "execution_count": 7,
      "outputs": []
    },
    {
      "cell_type": "code",
      "source": [
        "# choose cross entropy loss function (equation 5.24 in the loss notes)\n",
        "loss_function = nn.CrossEntropyLoss()\n",
        "# construct SGD optimizer and initialize learning rate and momentum\n",
        "optimizer = torch.optim.SGD(model.parameters(), lr = 0.05, momentum=0.9)\n",
        "# object that decreases learning rate by half every 20 epochs\n",
        "scheduler = StepLR(optimizer, step_size=20, gamma=0.5)\n",
        "# create 100 dummy data points and store in data loader class\n",
        "x_train = torch.tensor(train_data_x.transpose().astype('float32'))\n",
        "y_train = torch.tensor(train_data_y.astype('long')).long()\n",
        "x_val= torch.tensor(val_data_x.transpose().astype('float32'))\n",
        "y_val = torch.tensor(val_data_y.astype('long')).long()\n",
        "\n",
        "# load the data into a class that creates the batches\n",
        "data_loader = DataLoader(TensorDataset(x_train,y_train), batch_size=100, shuffle=True, worker_init_fn=np.random.seed(1))\n",
        "\n",
        "# Initialize model weights\n",
        "model.apply(weights_init)\n",
        "\n",
        "# loop over the dataset n_epoch times\n",
        "n_epoch = 100\n",
        "# store the loss and the % correct at each epoch\n",
        "losses_train = np.zeros((n_epoch))\n",
        "errors_train = np.zeros((n_epoch))\n",
        "losses_val = np.zeros((n_epoch))\n",
        "errors_val = np.zeros((n_epoch))\n",
        "\n",
        "for epoch in range(n_epoch):\n",
        "  # loop over batches\n",
        "  for i, data in enumerate(data_loader):\n",
        "    # retrieve inputs and labels for this batch\n",
        "    x_batch, y_batch = data\n",
        "    # zero the parameter gradients\n",
        "    optimizer.zero_grad()\n",
        "    # forward pass -- calculate model output\n",
        "    pred = model(x_batch[:,None,:])\n",
        "    # compute the loss\n",
        "    loss = loss_function(pred, y_batch)\n",
        "    # backward pass\n",
        "    loss.backward()\n",
        "    # SGD update\n",
        "    optimizer.step()\n",
        "\n",
        "  # Run whole dataset to get statistics -- normally wouldn't do this\n",
        "  pred_train = model(x_train[:,None,:])\n",
        "  pred_val = model(x_val[:,None,:])\n",
        "  _, predicted_train_class = torch.max(pred_train.data, 1)\n",
        "  _, predicted_val_class = torch.max(pred_val.data, 1)\n",
        "  errors_train[epoch] = 100 - 100 * (predicted_train_class == y_train).float().sum() / len(y_train)\n",
        "  errors_val[epoch]= 100 - 100 * (predicted_val_class == y_val).float().sum() / len(y_val)\n",
        "  losses_train[epoch] = loss_function(pred_train, y_train).item()\n",
        "  losses_val[epoch]= loss_function(pred_val, y_val).item()\n",
        "  print(f'Epoch {epoch:5d}, train loss {losses_train[epoch]:.6f}, train error {errors_train[epoch]:3.2f},  val loss {losses_val[epoch]:.6f}, percent error {errors_val[epoch]:3.2f}')\n",
        "\n",
        "  # tell scheduler to consider updating learning rate\n",
        "  scheduler.step()\n",
        "\n",
        "# Plot the results\n",
        "fig, ax = plt.subplots()\n",
        "ax.plot(errors_train,'r-',label='train')\n",
        "ax.plot(errors_val,'b-',label='validation')\n",
        "ax.set_ylim(0,100); ax.set_xlim(0,n_epoch)\n",
        "ax.set_xlabel('Epoch'); ax.set_ylabel('Error')\n",
        "ax.set_title('Part I: Validation Result %3.2f'%(errors_val[-1]))\n",
        "ax.legend()\n",
        "plt.show()"
      ],
      "metadata": {
        "id": "NYw8I_3mmX5c",
        "colab": {
          "base_uri": "https://localhost:8080/",
          "height": 1000
        },
        "outputId": "9e5e27b5-dba9-4255-e13f-7788987d80eb"
      },
      "execution_count": 8,
      "outputs": [
        {
          "output_type": "stream",
          "name": "stdout",
          "text": [
            "Epoch     0, train loss 1.888449, train error 74.40,  val loss 1.906491, percent error 77.30\n",
            "Epoch     1, train loss 1.521078, train error 60.12,  val loss 1.529547, percent error 62.50\n",
            "Epoch     2, train loss 1.435889, train error 57.95,  val loss 1.467362, percent error 58.10\n",
            "Epoch     3, train loss 1.279891, train error 52.67,  val loss 1.285834, percent error 53.20\n",
            "Epoch     4, train loss 1.277543, train error 51.17,  val loss 1.296876, percent error 51.50\n",
            "Epoch     5, train loss 1.154734, train error 46.00,  val loss 1.157829, percent error 47.70\n",
            "Epoch     6, train loss 1.107986, train error 44.40,  val loss 1.129028, percent error 47.00\n",
            "Epoch     7, train loss 1.113532, train error 44.50,  val loss 1.144436, percent error 45.70\n",
            "Epoch     8, train loss 0.904018, train error 37.88,  val loss 0.928096, percent error 38.70\n",
            "Epoch     9, train loss 0.835652, train error 34.30,  val loss 0.890146, percent error 36.10\n",
            "Epoch    10, train loss 0.748109, train error 30.43,  val loss 0.805325, percent error 31.20\n",
            "Epoch    11, train loss 0.696041, train error 27.55,  val loss 0.769474, percent error 32.00\n",
            "Epoch    12, train loss 0.628021, train error 25.05,  val loss 0.725631, percent error 29.60\n",
            "Epoch    13, train loss 0.569305, train error 21.53,  val loss 0.651662, percent error 26.20\n",
            "Epoch    14, train loss 0.554323, train error 21.35,  val loss 0.667531, percent error 25.30\n",
            "Epoch    15, train loss 0.567088, train error 20.05,  val loss 0.668263, percent error 23.90\n",
            "Epoch    16, train loss 0.445056, train error 17.12,  val loss 0.579634, percent error 23.60\n",
            "Epoch    17, train loss 0.385058, train error 14.35,  val loss 0.547052, percent error 21.00\n",
            "Epoch    18, train loss 0.344365, train error 12.60,  val loss 0.506318, percent error 17.80\n",
            "Epoch    19, train loss 0.327127, train error 10.97,  val loss 0.492727, percent error 15.50\n",
            "Epoch    20, train loss 0.243769, train error 8.40,  val loss 0.411880, percent error 14.40\n",
            "Epoch    21, train loss 0.219630, train error 7.45,  val loss 0.406780, percent error 13.20\n",
            "Epoch    22, train loss 0.281790, train error 10.53,  val loss 0.530888, percent error 17.50\n",
            "Epoch    23, train loss 0.205584, train error 6.88,  val loss 0.388130, percent error 12.60\n",
            "Epoch    24, train loss 0.197556, train error 7.10,  val loss 0.417021, percent error 14.10\n",
            "Epoch    25, train loss 0.192223, train error 6.68,  val loss 0.402071, percent error 12.60\n",
            "Epoch    26, train loss 0.189648, train error 6.97,  val loss 0.432102, percent error 12.70\n",
            "Epoch    27, train loss 0.185485, train error 6.72,  val loss 0.411906, percent error 14.10\n",
            "Epoch    28, train loss 0.169954, train error 6.03,  val loss 0.403784, percent error 12.90\n",
            "Epoch    29, train loss 0.214738, train error 7.88,  val loss 0.483456, percent error 15.10\n",
            "Epoch    30, train loss 0.165677, train error 6.00,  val loss 0.419976, percent error 13.60\n",
            "Epoch    31, train loss 0.162472, train error 5.60,  val loss 0.414241, percent error 13.20\n",
            "Epoch    32, train loss 0.132420, train error 4.32,  val loss 0.384189, percent error 12.30\n",
            "Epoch    33, train loss 0.132450, train error 4.43,  val loss 0.402504, percent error 12.50\n",
            "Epoch    34, train loss 0.126146, train error 4.35,  val loss 0.386670, percent error 12.00\n",
            "Epoch    35, train loss 0.121859, train error 4.35,  val loss 0.412572, percent error 12.10\n",
            "Epoch    36, train loss 0.135942, train error 4.72,  val loss 0.407499, percent error 12.90\n",
            "Epoch    37, train loss 0.127490, train error 4.57,  val loss 0.420989, percent error 12.60\n",
            "Epoch    38, train loss 0.109555, train error 3.68,  val loss 0.383002, percent error 11.60\n",
            "Epoch    39, train loss 0.103356, train error 3.28,  val loss 0.416968, percent error 12.30\n",
            "Epoch    40, train loss 0.089507, train error 2.93,  val loss 0.402994, percent error 12.10\n",
            "Epoch    41, train loss 0.086139, train error 2.57,  val loss 0.394689, percent error 12.10\n",
            "Epoch    42, train loss 0.079508, train error 2.32,  val loss 0.408977, percent error 11.90\n",
            "Epoch    43, train loss 0.081167, train error 2.43,  val loss 0.398436, percent error 11.70\n",
            "Epoch    44, train loss 0.074690, train error 1.75,  val loss 0.405891, percent error 11.30\n",
            "Epoch    45, train loss 0.073802, train error 2.03,  val loss 0.404986, percent error 12.00\n",
            "Epoch    46, train loss 0.072634, train error 2.03,  val loss 0.421977, percent error 11.80\n",
            "Epoch    47, train loss 0.072675, train error 2.07,  val loss 0.420834, percent error 11.70\n",
            "Epoch    48, train loss 0.073415, train error 2.15,  val loss 0.409633, percent error 11.40\n",
            "Epoch    49, train loss 0.068866, train error 1.93,  val loss 0.422584, percent error 12.20\n",
            "Epoch    50, train loss 0.066250, train error 1.72,  val loss 0.427318, percent error 11.80\n",
            "Epoch    51, train loss 0.066295, train error 1.60,  val loss 0.435504, percent error 12.20\n",
            "Epoch    52, train loss 0.071149, train error 2.03,  val loss 0.431796, percent error 11.60\n",
            "Epoch    53, train loss 0.068792, train error 1.85,  val loss 0.439071, percent error 12.10\n",
            "Epoch    54, train loss 0.060147, train error 1.38,  val loss 0.438434, percent error 11.90\n",
            "Epoch    55, train loss 0.067749, train error 1.80,  val loss 0.464859, percent error 12.70\n",
            "Epoch    56, train loss 0.075420, train error 2.32,  val loss 0.456265, percent error 11.90\n",
            "Epoch    57, train loss 0.062593, train error 1.60,  val loss 0.435799, percent error 11.50\n",
            "Epoch    58, train loss 0.056737, train error 1.50,  val loss 0.442709, percent error 12.20\n",
            "Epoch    59, train loss 0.057983, train error 1.62,  val loss 0.432730, percent error 11.40\n",
            "Epoch    60, train loss 0.054127, train error 1.18,  val loss 0.442901, percent error 11.70\n",
            "Epoch    61, train loss 0.052204, train error 1.07,  val loss 0.451035, percent error 12.10\n",
            "Epoch    62, train loss 0.051454, train error 1.03,  val loss 0.443505, percent error 11.30\n",
            "Epoch    63, train loss 0.050476, train error 1.12,  val loss 0.455081, percent error 11.90\n",
            "Epoch    64, train loss 0.049250, train error 1.07,  val loss 0.453923, percent error 11.70\n",
            "Epoch    65, train loss 0.049207, train error 1.18,  val loss 0.456515, percent error 11.70\n",
            "Epoch    66, train loss 0.049247, train error 1.05,  val loss 0.460763, percent error 12.10\n",
            "Epoch    67, train loss 0.048492, train error 0.90,  val loss 0.461493, percent error 12.00\n",
            "Epoch    68, train loss 0.046967, train error 1.07,  val loss 0.464133, percent error 11.90\n",
            "Epoch    69, train loss 0.047161, train error 0.97,  val loss 0.462830, percent error 12.20\n",
            "Epoch    70, train loss 0.046470, train error 0.93,  val loss 0.467115, percent error 12.30\n",
            "Epoch    71, train loss 0.046682, train error 0.95,  val loss 0.472320, percent error 12.10\n",
            "Epoch    72, train loss 0.047412, train error 1.15,  val loss 0.472666, percent error 12.50\n",
            "Epoch    73, train loss 0.044294, train error 0.90,  val loss 0.470898, percent error 12.10\n",
            "Epoch    74, train loss 0.044209, train error 0.93,  val loss 0.469970, percent error 12.40\n",
            "Epoch    75, train loss 0.044419, train error 0.88,  val loss 0.473021, percent error 12.10\n",
            "Epoch    76, train loss 0.043716, train error 0.93,  val loss 0.474802, percent error 12.40\n",
            "Epoch    77, train loss 0.043368, train error 0.93,  val loss 0.481733, percent error 12.30\n",
            "Epoch    78, train loss 0.043882, train error 0.82,  val loss 0.484063, percent error 12.10\n",
            "Epoch    79, train loss 0.046182, train error 1.20,  val loss 0.487022, percent error 12.10\n",
            "Epoch    80, train loss 0.042561, train error 0.80,  val loss 0.479376, percent error 11.90\n",
            "Epoch    81, train loss 0.041069, train error 0.78,  val loss 0.480936, percent error 12.30\n",
            "Epoch    82, train loss 0.042796, train error 0.93,  val loss 0.485789, percent error 12.20\n",
            "Epoch    83, train loss 0.041123, train error 0.82,  val loss 0.486290, percent error 12.60\n",
            "Epoch    84, train loss 0.040420, train error 0.78,  val loss 0.484255, percent error 12.10\n",
            "Epoch    85, train loss 0.040118, train error 0.78,  val loss 0.485650, percent error 12.20\n",
            "Epoch    86, train loss 0.040175, train error 0.80,  val loss 0.486279, percent error 12.20\n",
            "Epoch    87, train loss 0.040780, train error 0.85,  val loss 0.484796, percent error 12.30\n",
            "Epoch    88, train loss 0.040046, train error 0.70,  val loss 0.487433, percent error 12.10\n",
            "Epoch    89, train loss 0.040206, train error 0.75,  val loss 0.490954, percent error 11.60\n",
            "Epoch    90, train loss 0.039716, train error 0.78,  val loss 0.491068, percent error 12.20\n",
            "Epoch    91, train loss 0.040159, train error 0.82,  val loss 0.493574, percent error 12.50\n",
            "Epoch    92, train loss 0.038758, train error 0.72,  val loss 0.491641, percent error 12.30\n",
            "Epoch    93, train loss 0.039283, train error 0.78,  val loss 0.493112, percent error 12.10\n",
            "Epoch    94, train loss 0.039083, train error 0.72,  val loss 0.494284, percent error 12.40\n",
            "Epoch    95, train loss 0.038458, train error 0.75,  val loss 0.492707, percent error 12.10\n",
            "Epoch    96, train loss 0.038020, train error 0.75,  val loss 0.494008, percent error 12.30\n",
            "Epoch    97, train loss 0.038057, train error 0.78,  val loss 0.496764, percent error 12.20\n",
            "Epoch    98, train loss 0.037761, train error 0.70,  val loss 0.495560, percent error 12.30\n",
            "Epoch    99, train loss 0.037655, train error 0.75,  val loss 0.495391, percent error 12.50\n"
          ]
        },
        {
          "output_type": "display_data",
          "data": {
            "text/plain": [
              "<Figure size 640x480 with 1 Axes>"
            ],
            "image/png": "[encoded data removed]"
          },
          "metadata": {}
        }
      ]
    }
  ]
}